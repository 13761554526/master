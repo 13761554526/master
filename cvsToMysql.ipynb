{
 "cells": [
  {
   "cell_type": "code",
   "id": "initial_id",
   "metadata": {
    "collapsed": true,
    "ExecuteTime": {
     "end_time": "2025-09-09T08:01:17.225297Z",
     "start_time": "2025-09-09T08:01:17.060888Z"
    }
   },
   "source": [
    "import csv\n",
    "import mysql.connector\n",
    "from mysql.connector import Error\n",
    "import os\n",
    "\n",
    "def import_csv_to_mysql(csv_file_path, host, database, user, password):\n",
    "    try:\n",
    "        # 连接到MySQL数据库\n",
    "        connection = mysql.connector.connect(\n",
    "            host=host,\n",
    "            database=database,\n",
    "            user=user,\n",
    "            password=password\n",
    "        )\n",
    "\n",
    "        if connection.is_connected():\n",
    "            cursor = connection.cursor()\n",
    "\n",
    "            # 读取CSV文件\n",
    "            with open(csv_file_path, 'r', encoding='utf-8-sig') as file:\n",
    "                csv_data = csv.reader(file)\n",
    "                next(csv_data)  # 跳过标题行\n",
    "\n",
    "                # 准备插入语句\n",
    "                insert_query = \"\"\"INSERT INTO stock_transactions (\n",
    "                    stock_name, total_trades, total_amount, total_buy_times, total_buy_amount,\n",
    "                    total_sell_times, total_sell_amount, morning_trades, morning_amount,\n",
    "                    morning_buy_times, morning_buy_amount, morning_sell_times, morning_sell_amount,\n",
    "                    midday_trades, midday_amount, midday_buy_times, midday_buy_amount,\n",
    "                    midday_sell_times, midday_sell_amount, afternoon_trades, afternoon_amount,\n",
    "                    afternoon_buy_times, afternoon_buy_amount, afternoon_sell_times, afternoon_sell_amount, details\n",
    "                ) VALUES (%s, %s, %s, %s, %s, %s, %s, %s, %s, %s, %s, %s, %s, %s, %s, %s, %s, %s, %s, %s, %s, %s, %s, %s, %s, %s)\"\"\"\n",
    "\n",
    "                # 插入数据\n",
    "                for row in csv_data:\n",
    "                    # 处理空值\n",
    "                    processed_row = []\n",
    "                    for value in row:\n",
    "                        if value == '' or value is None:\n",
    "                            processed_row.append(None)\n",
    "                        else:\n",
    "                            processed_row.append(value)\n",
    "\n",
    "                    cursor.execute(insert_query, processed_row)\n",
    "\n",
    "                connection.commit()\n",
    "                print(f\"成功导入 {cursor.rowcount} 条记录到数据库\")\n",
    "\n",
    "    except Error as e:\n",
    "        print(f\"数据库错误: {e}\")\n",
    "    finally:\n",
    "        if connection.is_connected():\n",
    "            cursor.close()\n",
    "            connection.close()\n",
    "            print(\"MySQL连接已关闭\")\n",
    "\n",
    "# 使用示例\n",
    "if __name__ == \"__main__\":\n",
    "    # 数据库连接参数\n",
    "    host = \"localhost\"\n",
    "    database = \"public\"\n",
    "    user = \"root\"\n",
    "    password = \"root\"\n",
    "\n",
    "    csv_file_path = \"C:\\\\Users\\\\16528\\\\PycharmProjects\\\\PythonProject\\\\save_file\\\\20250909\\\\统计结果.csv\"\n",
    "\n",
    "    if os.path.exists(csv_file_path):\n",
    "        import_csv_to_mysql(csv_file_path, host, database, user, password)\n",
    "    else:\n",
    "        print(\"CSV文件不存在，请检查路径是否正确\")\n"
   ],
   "outputs": [
    {
     "name": "stdout",
     "output_type": "stream",
     "text": [
      "成功导入 1 条记录到数据库\n",
      "MySQL连接已关闭\n"
     ]
    }
   ],
   "execution_count": 1
  },
  {
   "metadata": {},
   "cell_type": "code",
   "outputs": [],
   "execution_count": null,
   "source": "",
   "id": "972161b1cdc6652e"
  }
 ],
 "metadata": {
  "kernelspec": {
   "display_name": "Python 3",
   "language": "python",
   "name": "python3"
  },
  "language_info": {
   "codemirror_mode": {
    "name": "ipython",
    "version": 2
   },
   "file_extension": ".py",
   "mimetype": "text/x-python",
   "name": "python",
   "nbconvert_exporter": "python",
   "pygments_lexer": "ipython2",
   "version": "2.7.6"
  }
 },
 "nbformat": 4,
 "nbformat_minor": 5
}
